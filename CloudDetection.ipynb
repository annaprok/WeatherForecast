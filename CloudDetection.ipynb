{
  "nbformat": 4,
  "nbformat_minor": 0,
  "metadata": {
    "colab": {
      "provenance": []
    },
    "kernelspec": {
      "name": "python3",
      "display_name": "Python 3"
    },
    "language_info": {
      "name": "python"
    }
  },
  "cells": [
    {
      "cell_type": "code",
      "source": [
        "pip install opencv2"
      ],
      "metadata": {
        "colab": {
          "base_uri": "https://localhost:8080/"
        },
        "id": "SHYRs3ZlzqBG",
        "outputId": "d26b2861-fd40-459d-b8bf-d56df2ef2b08"
      },
      "execution_count": null,
      "outputs": [
        {
          "output_type": "stream",
          "name": "stdout",
          "text": [
            "Looking in indexes: https://pypi.org/simple, https://us-python.pkg.dev/colab-wheels/public/simple/\n",
            "\u001b[31mERROR: Could not find a version that satisfies the requirement opencv2 (from versions: none)\u001b[0m\u001b[31m\n",
            "\u001b[0m\u001b[31mERROR: No matching distribution found for opencv2\u001b[0m\u001b[31m\n",
            "\u001b[0m"
          ]
        }
      ]
    },
    {
      "cell_type": "code",
      "execution_count": null,
      "metadata": {
        "colab": {
          "base_uri": "https://localhost:8080/",
          "height": 547
        },
        "id": "edDZrxcoiyGN",
        "outputId": "e926e1a9-0c6f-4fe4-bf93-020b40c6c623"
      },
      "outputs": [
        {
          "output_type": "display_data",
          "data": {
            "text/plain": [
              "<PIL.Image.Image image mode=L size=480x530 at 0x7F23F81A8D60>"
            ],
            "image/png": "[encoded data removed]"
          },
          "metadata": {}
        }
      ],
      "source": [
        "import cv2\n",
        "from google.colab.patches import cv2_imshow\n",
        "import numpy as np\n",
        "\n",
        "# Load the image\n",
        "img = cv2.imread(\"/content/ezgif.com-gif-maker.jpg\", 0)\n",
        "\n",
        "# Apply Gaussian Blur to remove noise\n",
        "img = cv2.GaussianBlur(img, (5, 5), 0)\n",
        "\n",
        "# Use HoughCircles to detect circles in the image\n",
        "circles = cv2.HoughCircles(img, cv2.HOUGH_GRADIENT, 1, 20, param1=50, param2=30, minRadius=0, maxRadius=0)\n",
        "\n",
        "# Convert the (x, y) coordinates and radius of the circles to integers\n",
        "circles = np.round(circles[0, :]).astype(\"int\")\n",
        "\n",
        "# Loop over the circles and draw them on the original image\n",
        "for (x, y, r) in circles:\n",
        "    cv2.circle(img, (x, y), r, (0, 255, 0), 4)\n",
        "\n",
        "# Show the resulting image\n",
        "cv2_imshow(img)\n",
        "cv2.waitKey(0)\n",
        "cv2.destroyAllWindows()\n"
      ]
    },
    {
      "cell_type": "code",
      "source": [],
      "metadata": {
        "id": "VDZVM1mI2cvb"
      },
      "execution_count": null,
      "outputs": []
    },
    {
      "cell_type": "code",
      "source": [
        "import numpy as np\n",
        "import cv2\n",
        "from sklearn.cluster import KMeans\n",
        "\n",
        "# Load the radar image\n",
        "img = cv2.imread(\"/content/ezgif.com-gif-maker.jpg\", 0)\n",
        "\n",
        "# Flatten the image into a 1-D array\n",
        "flat_img = img.reshape(-1, 1)\n",
        "\n",
        "# Perform KMeans clustering on the image\n",
        "kmeans = KMeans(n_clusters=2).fit(flat_img)\n",
        "\n",
        "# Get the cluster labels for each pixel\n",
        "labels = kmeans.labels_\n",
        "\n",
        "# Reshape the labels into the original image shape\n",
        "labels = labels.reshape(img.shape)\n",
        "\n",
        "# Create a binary image where the clouds are white and the background is black\n",
        "binary_img = np.zeros(img.shape, dtype=np.uint8)\n",
        "binary_img[labels == 1] = 255\n",
        "\n",
        "# Apply morphological operations to fill the gaps in the cloud regions\n",
        "kernel = np.ones((5, 5), np.uint8)\n",
        "binary_img = cv2.dilate(binary_img, kernel, iterations=1)\n",
        "binary_img = cv2.erode(binary_img, kernel, iterations=1)\n",
        "\n",
        "# Show the resulting image\n",
        "#cv2_imshow(img)\n",
        "cv2_imshow(binary_img)\n",
        "cv2.waitKey(0)\n",
        "cv2.destroyAllWindows()\n"
      ],
      "metadata": {
        "colab": {
          "base_uri": "https://localhost:8080/",
          "height": 547
        },
        "id": "N5-PzpP8rBb4",
        "outputId": "3fb8d145-9c69-420f-fcdf-1810f8dcc787"
      },
      "execution_count": null,
      "outputs": [
        {
          "output_type": "display_data",
          "data": {
            "text/plain": [
              "<PIL.Image.Image image mode=L size=480x530 at 0x7F24189D6DF0>"
            ],
            "image/png": "[encoded data removed]"
          },
          "metadata": {}
        }
      ]
    },
    {
      "cell_type": "code",
      "source": [
        "import numpy as np\n",
        "import cv2\n",
        "\n",
        "# Load the radar image\n",
        "img = cv2.imread(\"/content/WhatsApp Image 2023-02-09 at 16.31.11.jpeg\")\n",
        "\n",
        "# Convert the image to grayscale\n",
        "gray = cv2.cvtColor(img, cv2.COLOR_BGR2GRAY)\n",
        "\n",
        "# Apply Gaussian blur to reduce noise in the image\n",
        "blurred = cv2.GaussianBlur(gray, (5, 5), 0)\n",
        "\n",
        "# Detect lines in the image using the HoughLinesP function\n",
        "lines = cv2.HoughLinesP(blurred, 1, np.pi/180, 50, minLineLength=50, maxLineGap=10)\n",
        "\n",
        "# Create a black image with the same size as the original image\n",
        "mask = np.zeros_like(img)\n",
        "\n",
        "# Draw the lines on the black image\n",
        "for line in lines:\n",
        "    x1, y1, x2, y2 = line[0]\n",
        "    cv2.line(mask, (x1, y1), (x2, y2), (255, 255, 255), 5)\n",
        "\n",
        "# Invert the lines image\n",
        "mask = cv2.bitwise_not(mask)\n",
        "\n",
        "# Create a binary image where the clouds are white and the background is black\n",
        "ret, binary_img = cv2.threshold(gray, 0, 255, cv2.THRESH_BINARY + cv2.THRESH_OTSU)\n",
        "\n",
        "# Combine the binary image with the lines mask\n",
        "result = cv2.bitwise_and(binary_img, mask)\n",
        "\n",
        "# Apply morphological operations to fill the gaps in the cloud regions\n",
        "kernel = np.ones((5, 5), np.uint8)\n",
        "result = cv2.dilate(result, kernel, iterations=1)\n",
        "result = cv2.erode(result, kernel, iterations=1)\n",
        "\n",
        "# Color the clouds in the resulting image\n",
        "result = cv2.cvtColor(result, cv2.COLOR_GRAY2BGR)\n",
        "result[np.where(result == [255, 255, 255])] = [0, 255, 0]\n",
        "\n",
        "# Show the resulting image\n",
        "cv2_imshow(result)\n",
        "cv2.waitKey(0)\n",
        "cv2.destroyAllWindows()"
      ],
      "metadata": {
        "colab": {
          "base_uri": "https://localhost:8080/",
          "height": 276
        },
        "id": "-ByDp68I0ClG",
        "outputId": "a9c2dc24-12e6-44b9-8b9a-030f25f85633"
      },
      "execution_count": null,
      "outputs": [
        {
          "output_type": "error",
          "ename": "error",
          "evalue": "ignored",
          "traceback": [
            "\u001b[0;31m---------------------------------------------------------------------------\u001b[0m",
            "\u001b[0;31merror\u001b[0m                                     Traceback (most recent call last)",
            "\u001b[0;32m<ipython-input-6-99b81e3f45fd>\u001b[0m in \u001b[0;36m<module>\u001b[0;34m\u001b[0m\n\u001b[1;32m     29\u001b[0m \u001b[0;34m\u001b[0m\u001b[0m\n\u001b[1;32m     30\u001b[0m \u001b[0;31m# Combine the binary image with the lines mask\u001b[0m\u001b[0;34m\u001b[0m\u001b[0;34m\u001b[0m\u001b[0;34m\u001b[0m\u001b[0m\n\u001b[0;32m---> 31\u001b[0;31m \u001b[0mresult\u001b[0m \u001b[0;34m=\u001b[0m \u001b[0mcv2\u001b[0m\u001b[0;34m.\u001b[0m\u001b[0mbitwise_and\u001b[0m\u001b[0;34m(\u001b[0m\u001b[0mbinary_img\u001b[0m\u001b[0;34m,\u001b[0m \u001b[0mmask\u001b[0m\u001b[0;34m)\u001b[0m\u001b[0;34m\u001b[0m\u001b[0;34m\u001b[0m\u001b[0m\n\u001b[0m\u001b[1;32m     32\u001b[0m \u001b[0;34m\u001b[0m\u001b[0m\n\u001b[1;32m     33\u001b[0m \u001b[0;31m# Apply morphological operations to fill the gaps in the cloud regions\u001b[0m\u001b[0;34m\u001b[0m\u001b[0;34m\u001b[0m\u001b[0;34m\u001b[0m\u001b[0m\n",
            "\u001b[0;31merror\u001b[0m: OpenCV(4.6.0) /io/opencv/modules/core/src/arithm.cpp:212: error: (-209:Sizes of input arguments do not match) The operation is neither 'array op array' (where arrays have the same size and type), nor 'array op scalar', nor 'scalar op array' in function 'binary_op'\n"
          ]
        }
      ]
    },
    {
      "cell_type": "code",
      "source": [
        "import cv2\n",
        "import numpy as np\n",
        "\n",
        "# Load the radar image\n",
        "img = cv2.imread(\"/content/WhatsApp Image 2023-02-09 at 16.31.11.jpeg\")\n",
        "\n",
        "# Convert the image to grayscale\n",
        "gray = cv2.cvtColor(img, cv2.COLOR_BGR2GRAY)\n",
        "\n",
        "# Apply Gaussian blur to reduce noise in the image\n",
        "blurred = cv2.GaussianBlur(gray, (5, 5), 0)\n",
        "\n",
        "# Detect circles in the image using the HoughCircles function\n",
        "circles = cv2.HoughCircles(blurred, cv2.HOUGH_GRADIENT, 1, 20, param1=50, param2=30, minRadius=0, maxRadius=0)\n",
        "\n",
        "# Convert the output from the HoughCircles function to a usable format\n",
        "circles = np.uint16(np.around(circles))\n",
        "\n",
        "# Create a black image with the same size as the original image\n",
        "mask = np.zeros_like(img)\n",
        "\n",
        "# Draw the circles on the black image\n",
        "for i in circles[0, :]:\n",
        "    cv2.circle(mask, (i[0], i[1]), i[2], (255, 255, 255), -1)\n",
        "\n",
        "# Invert the circles image\n",
        "mask = cv2.bitwise_not(mask)\n",
        "\n",
        "# Combine the original image with the circles mask\n",
        "result = cv2.bitwise_and(img, mask)\n",
        "\n",
        "# Show the resulting image\n",
        "cv2_imshow(result)\n",
        "cv2.waitKey(0)\n",
        "cv2.destroyAllWindows()\n"
      ],
      "metadata": {
        "colab": {
          "base_uri": "https://localhost:8080/",
          "height": 547
        },
        "id": "l0-myF9a3DBk",
        "outputId": "b392f51a-9ff4-497e-f58d-308751b07bad"
      },
      "execution_count": null,
      "outputs": [
        {
          "output_type": "display_data",
          "data": {
            "text/plain": [
              "<PIL.Image.Image image mode=RGB size=480x530 at 0x7F23BDEF58B0>"
            ],
            "image/png": "[encoded data removed]"
          },
          "metadata": {}
        }
      ]
    },
    {
      "cell_type": "code",
      "source": [
        "import cv2\n",
        "import numpy as np\n",
        "\n",
        "# Load the radar image\n",
        "img = cv2.imread(\"/content/result_complicated.png\")\n",
        "\n",
        "# Convert the image to grayscale\n",
        "gray = cv2.cvtColor(img, cv2.COLOR_BGR2GRAY)\n",
        "\n",
        "# Apply Gaussian blur to reduce noise in the image\n",
        "blurred = cv2.GaussianBlur(gray, (5, 5), 0)\n",
        "\n",
        "# Detect circles in the image using the HoughCircles function\n",
        "circles = cv2.HoughCircles(blurred, cv2.HOUGH_GRADIENT, 1, 20, param1=50, param2=30, minRadius=0, maxRadius=0)\n",
        "\n",
        "# Convert the output from the HoughCircles function to a usable format\n",
        "circles = np.uint16(np.around(circles))\n",
        "\n",
        "# Create a black image with the same size as the original image\n",
        "mask = np.zeros_like(img)\n",
        "\n",
        "# Draw the circles on the black image\n",
        "for i in circles[0, :]:\n",
        "    cv2.circle(mask, (i[0], i[1]), i[2], (255, 255, 255), -1)\n",
        "\n",
        "# Invert the circles image\n",
        "mask = cv2.bitwise_not(mask)\n",
        "\n",
        "# Combine the original image with the circles mask\n",
        "result = cv2.bitwise_and(img, mask)\n",
        "\n",
        "# Show the resulting image\n",
        "cv2_imshow(result)\n",
        "cv2.waitKey(0)\n",
        "cv2.destroyAllWindows()\n"
      ],
      "metadata": {
        "colab": {
          "base_uri": "https://localhost:8080/",
          "height": 547
        },
        "id": "AH5ZsKna8WrI",
        "outputId": "e51c78af-ed54-49d9-e4c1-ca3236763244"
      },
      "execution_count": null,
      "outputs": [
        {
          "output_type": "display_data",
          "data": {
            "text/plain": [
              "<PIL.Image.Image image mode=RGB size=480x530 at 0x7F23BDF32B20>"
            ],
            "image/png": "[encoded data removed]"
          },
          "metadata": {}
        }
      ]
    },
    {
      "cell_type": "code",
      "source": [
        "import cv2\n",
        "import numpy as np\n",
        "from sklearn.cluster import KMeans\n",
        "\n",
        "def detect_clouds(image):\n",
        "    # Convert the image to grayscale\n",
        "    gray = cv2.cvtColor(image, cv2.COLOR_BGR2GRAY)\n",
        "\n",
        "    # Apply Gaussian blur to reduce noise in the image\n",
        "    blurred = cv2.GaussianBlur(gray, (5, 5), 0)\n",
        "\n",
        "    # Threshold the image to remove non-cloud pixels\n",
        "    _, thresh = cv2.threshold(blurred, 240, 255, cv2.THRESH_BINARY)\n",
        "\n",
        "    # Find the contours in the thresholded image\n",
        "    contours, _ = cv2.findContours(thresh, cv2.RETR_EXTERNAL, cv2.CHAIN_APPROX_SIMPLE)\n",
        "\n",
        "    # Create an array to store the centroids of the contours\n",
        "    centroids = []\n",
        "    for cnt in contours:\n",
        "        M = cv2.moments(cnt)\n",
        "        cx = int(M['m10']/M['m00'])\n",
        "        cy = int(M['m01']/M['m00'])\n",
        "        centroids.append([cx, cy])\n",
        "\n",
        "    # Convert the centroids array to a numpy array\n",
        "    centroids = np.array(centroids)\n",
        "    # Convert the centroids array to a numpy array\n",
        "    centroids = np.array(centroids)\n",
        "\n",
        "    # Check if the centroids array is not empty\n",
        "    if centroids.shape[0] > 0:\n",
        "    # Reshape the centroids array to a 2D array\n",
        "      centroids = centroids.reshape(-1, 2)\n",
        "\n",
        "\n",
        "      # Run the KMeans algorithm to cluster the centroids\n",
        "      kmeans = KMeans(n_clusters=1, random_state=0).fit(centroids)\n",
        "\n",
        "      # Get the cluster label for each centroid\n",
        "      labels = kmeans.labels_\n",
        "\n",
        "      # Create a black image with the same size as the original image\n",
        "      mask = np.zeros_like(image)\n",
        "\n",
        "      # Loop through the centroids and draw the contour corresponding to each centroid in the same cluster\n",
        "      for i, centroid in enumerate(centroids):\n",
        "          if labels[i] == 0:\n",
        "              cv2.drawContours(mask, [contours[i]], 0, (255, 255, 255), -1)\n",
        "\n",
        "      # Combine the original image with the contours mask\n",
        "      result = cv2.bitwise_and(image, mask)\n",
        "\n",
        "      return result\n",
        "\n",
        "# Load the radar image\n",
        "img = cv2.imread(\"/content/result_complicated.png\")\n",
        "\n",
        "# Call the detect_clouds function to return the image with only the clouds\n",
        "clouds = detect_clouds(img)\n",
        "\n",
        "# Show the resulting image\n",
        "cv2_imshow(clouds)\n",
        "cv2.waitKey(0)\n",
        "cv2.destroyAllWindows()"
      ],
      "metadata": {
        "colab": {
          "base_uri": "https://localhost:8080/",
          "height": 365
        },
        "id": "3RKcquwd-KXP",
        "outputId": "c299cfbf-dd44-43d6-884a-58e56c08892d"
      },
      "execution_count": null,
      "outputs": [
        {
          "output_type": "error",
          "ename": "AttributeError",
          "evalue": "ignored",
          "traceback": [
            "\u001b[0;31m---------------------------------------------------------------------------\u001b[0m",
            "\u001b[0;31mAttributeError\u001b[0m                            Traceback (most recent call last)",
            "\u001b[0;32m<ipython-input-16-f2fa38952c05>\u001b[0m in \u001b[0;36m<module>\u001b[0;34m\u001b[0m\n\u001b[1;32m     61\u001b[0m \u001b[0;34m\u001b[0m\u001b[0m\n\u001b[1;32m     62\u001b[0m \u001b[0;31m# Show the resulting image\u001b[0m\u001b[0;34m\u001b[0m\u001b[0;34m\u001b[0m\u001b[0;34m\u001b[0m\u001b[0m\n\u001b[0;32m---> 63\u001b[0;31m \u001b[0mcv2_imshow\u001b[0m\u001b[0;34m(\u001b[0m\u001b[0mclouds\u001b[0m\u001b[0;34m)\u001b[0m\u001b[0;34m\u001b[0m\u001b[0;34m\u001b[0m\u001b[0m\n\u001b[0m\u001b[1;32m     64\u001b[0m \u001b[0mcv2\u001b[0m\u001b[0;34m.\u001b[0m\u001b[0mwaitKey\u001b[0m\u001b[0;34m(\u001b[0m\u001b[0;36m0\u001b[0m\u001b[0;34m)\u001b[0m\u001b[0;34m\u001b[0m\u001b[0;34m\u001b[0m\u001b[0m\n\u001b[1;32m     65\u001b[0m \u001b[0mcv2\u001b[0m\u001b[0;34m.\u001b[0m\u001b[0mdestroyAllWindows\u001b[0m\u001b[0;34m(\u001b[0m\u001b[0;34m)\u001b[0m\u001b[0;34m\u001b[0m\u001b[0;34m\u001b[0m\u001b[0m\n",
            "\u001b[0;32m/usr/local/lib/python3.8/dist-packages/google/colab/patches/__init__.py\u001b[0m in \u001b[0;36mcv2_imshow\u001b[0;34m(a)\u001b[0m\n\u001b[1;32m     16\u001b[0m       \u001b[0mimage\u001b[0m\u001b[0;34m.\u001b[0m\u001b[0;34m\u001b[0m\u001b[0;34m\u001b[0m\u001b[0m\n\u001b[1;32m     17\u001b[0m   \"\"\"\n\u001b[0;32m---> 18\u001b[0;31m   \u001b[0ma\u001b[0m \u001b[0;34m=\u001b[0m \u001b[0ma\u001b[0m\u001b[0;34m.\u001b[0m\u001b[0mclip\u001b[0m\u001b[0;34m(\u001b[0m\u001b[0;36m0\u001b[0m\u001b[0;34m,\u001b[0m \u001b[0;36m255\u001b[0m\u001b[0;34m)\u001b[0m\u001b[0;34m.\u001b[0m\u001b[0mastype\u001b[0m\u001b[0;34m(\u001b[0m\u001b[0;34m'uint8'\u001b[0m\u001b[0;34m)\u001b[0m\u001b[0;34m\u001b[0m\u001b[0;34m\u001b[0m\u001b[0m\n\u001b[0m\u001b[1;32m     19\u001b[0m   \u001b[0;31m# cv2 stores colors as BGR; convert to RGB\u001b[0m\u001b[0;34m\u001b[0m\u001b[0;34m\u001b[0m\u001b[0;34m\u001b[0m\u001b[0m\n\u001b[1;32m     20\u001b[0m   \u001b[0;32mif\u001b[0m \u001b[0ma\u001b[0m\u001b[0;34m.\u001b[0m\u001b[0mndim\u001b[0m \u001b[0;34m==\u001b[0m \u001b[0;36m3\u001b[0m\u001b[0;34m:\u001b[0m\u001b[0;34m\u001b[0m\u001b[0;34m\u001b[0m\u001b[0m\n",
            "\u001b[0;31mAttributeError\u001b[0m: 'NoneType' object has no attribute 'clip'"
          ]
        }
      ]
    },
    {
      "cell_type": "code",
      "source": [],
      "metadata": {
        "id": "1Q6MVt5VNQyA"
      },
      "execution_count": null,
      "outputs": []
    }
  ]
}